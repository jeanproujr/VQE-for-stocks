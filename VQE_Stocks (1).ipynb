{
  "nbformat": 4,
  "nbformat_minor": 0,
  "metadata": {
    "colab": {
      "name": "VQE_Stocks.ipynb",
      "provenance": [],
      "collapsed_sections": [],
      "toc_visible": true
    },
    "kernelspec": {
      "display_name": "Python 3",
      "language": "python",
      "name": "python3"
    },
    "language_info": {
      "codemirror_mode": {
        "name": "ipython",
        "version": 3
      },
      "file_extension": ".py",
      "mimetype": "text/x-python",
      "name": "python",
      "nbconvert_exporter": "python",
      "pygments_lexer": "ipython3",
      "version": "3.8.8"
    }
  },
  "cells": [
    {
      "cell_type": "code",
      "metadata": {
        "colab": {
          "base_uri": "https://localhost:8080/"
        },
        "id": "PyoG_0SaRCq5",
        "outputId": "c901abde-24ed-4c9d-c560-7369ef96c15a"
      },
      "source": [
        "!pip install qiskit"
      ],
      "execution_count": 1,
      "outputs": [
        {
          "output_type": "stream",
          "text": [
            "Collecting qiskit\n",
            "  Downloading https://files.pythonhosted.org/packages/79/19/44f002f6633c64b4ab88d274dd036857624e4ba8b701cd90a408103a3791/qiskit-0.27.0.tar.gz\n",
            "Collecting qiskit-terra==0.17.4\n",
            "\u001b[?25l  Downloading https://files.pythonhosted.org/packages/b3/0c/3c7a8dd451dae0907263e9de9e3e34909e15e18c88a589b44581972c8511/qiskit_terra-0.17.4-cp37-cp37m-manylinux2010_x86_64.whl (6.0MB)\n",
            "\u001b[K     |████████████████████████████████| 6.0MB 5.4MB/s \n",
            "\u001b[?25hCollecting qiskit-aer==0.8.2\n",
            "\u001b[?25l  Downloading https://files.pythonhosted.org/packages/c2/d2/6ff15c370b5465b32529b528bf3f4ce1e01f74498be16203aa1c04b67022/qiskit_aer-0.8.2-cp37-cp37m-manylinux2010_x86_64.whl (18.0MB)\n",
            "\u001b[K     |████████████████████████████████| 18.0MB 116kB/s \n",
            "\u001b[?25hCollecting qiskit-ibmq-provider==0.14.0\n",
            "\u001b[?25l  Downloading https://files.pythonhosted.org/packages/83/2f/6f3b53b633cc477dbe601728c8c3fc8674441cb9554d14517254a52d0c8a/qiskit_ibmq_provider-0.14.0-py3-none-any.whl (229kB)\n",
            "\u001b[K     |████████████████████████████████| 235kB 40.7MB/s \n",
            "\u001b[?25hCollecting qiskit-ignis==0.6.0\n",
            "\u001b[?25l  Downloading https://files.pythonhosted.org/packages/54/be/a13c828e457e09d979667a61bddbd8c7246aafa94e2501b6a9154429cbea/qiskit_ignis-0.6.0-py3-none-any.whl (207kB)\n",
            "\u001b[K     |████████████████████████████████| 215kB 32.9MB/s \n",
            "\u001b[?25hCollecting qiskit-aqua==0.9.2\n",
            "\u001b[?25l  Downloading https://files.pythonhosted.org/packages/81/00/1f71631bbc3fd24537d7ec1c52adfcf4fa0851c13fefc05d6babcb11a1f8/qiskit_aqua-0.9.2-py3-none-any.whl (2.1MB)\n",
            "\u001b[K     |████████████████████████████████| 2.1MB 31.0MB/s \n",
            "\u001b[?25hRequirement already satisfied: jsonschema>=2.6 in /usr/local/lib/python3.7/dist-packages (from qiskit-terra==0.17.4->qiskit) (2.6.0)\n",
            "Collecting fastjsonschema>=2.10\n",
            "  Downloading https://files.pythonhosted.org/packages/d1/fb/ea090e917b18320f79be31d754bbe496b715175e865603cfce1eaed2e774/fastjsonschema-2.15.1-py3-none-any.whl\n",
            "Requirement already satisfied: dill>=0.3 in /usr/local/lib/python3.7/dist-packages (from qiskit-terra==0.17.4->qiskit) (0.3.4)\n",
            "Collecting python-constraint>=1.4\n",
            "  Downloading https://files.pythonhosted.org/packages/37/8b/5f1bc2734ca611943e1d6733ee244238679f6410a10cd45ede55a61a8402/python-constraint-1.4.0.tar.bz2\n",
            "Requirement already satisfied: numpy>=1.17 in /usr/local/lib/python3.7/dist-packages (from qiskit-terra==0.17.4->qiskit) (1.19.5)\n",
            "Requirement already satisfied: scipy>=1.4 in /usr/local/lib/python3.7/dist-packages (from qiskit-terra==0.17.4->qiskit) (1.4.1)\n",
            "Collecting retworkx>=0.8.0\n",
            "\u001b[?25l  Downloading https://files.pythonhosted.org/packages/9e/cd/70d436f170aa1ead2ac9e4c19c8838633355d48b530f09455eab0af2f98e/retworkx-0.9.0-cp37-cp37m-manylinux_2_5_x86_64.manylinux1_x86_64.manylinux_2_12_x86_64.manylinux2010_x86_64.whl (1.4MB)\n",
            "\u001b[K     |████████████████████████████████| 1.5MB 33.2MB/s \n",
            "\u001b[?25hRequirement already satisfied: psutil>=5 in /usr/local/lib/python3.7/dist-packages (from qiskit-terra==0.17.4->qiskit) (5.4.8)\n",
            "Requirement already satisfied: python-dateutil>=2.8.0 in /usr/local/lib/python3.7/dist-packages (from qiskit-terra==0.17.4->qiskit) (2.8.1)\n",
            "Requirement already satisfied: sympy>=1.3 in /usr/local/lib/python3.7/dist-packages (from qiskit-terra==0.17.4->qiskit) (1.7.1)\n",
            "Collecting ply>=3.10\n",
            "\u001b[?25l  Downloading https://files.pythonhosted.org/packages/a3/58/35da89ee790598a0700ea49b2a66594140f44dec458c07e8e3d4979137fc/ply-3.11-py2.py3-none-any.whl (49kB)\n",
            "\u001b[K     |████████████████████████████████| 51kB 5.5MB/s \n",
            "\u001b[?25hCollecting pybind11>=2.6\n",
            "\u001b[?25l  Downloading https://files.pythonhosted.org/packages/8d/43/7339dbabbc2793718d59703aace4166f53c29ee1c202f6ff5bf8a26c4d91/pybind11-2.6.2-py2.py3-none-any.whl (191kB)\n",
            "\u001b[K     |████████████████████████████████| 194kB 44.3MB/s \n",
            "\u001b[?25hCollecting requests-ntlm>=1.1.0\n",
            "  Downloading https://files.pythonhosted.org/packages/03/4b/8b9a1afde8072c4d5710d9fa91433d504325821b038e00237dc8d6d833dc/requests_ntlm-1.1.0-py2.py3-none-any.whl\n",
            "Collecting websocket-client>=1.0.1\n",
            "\u001b[?25l  Downloading https://files.pythonhosted.org/packages/ca/5f/3c211d168b2e9f9342cfb53bcfc26aab0eac63b998015e7af7bcae66119d/websocket_client-1.1.0-py2.py3-none-any.whl (68kB)\n",
            "\u001b[K     |████████████████████████████████| 71kB 406kB/s \n",
            "\u001b[?25hRequirement already satisfied: urllib3>=1.21.1 in /usr/local/lib/python3.7/dist-packages (from qiskit-ibmq-provider==0.14.0->qiskit) (1.24.3)\n",
            "Requirement already satisfied: requests>=2.19 in /usr/local/lib/python3.7/dist-packages (from qiskit-ibmq-provider==0.14.0->qiskit) (2.23.0)\n",
            "Requirement already satisfied: setuptools>=40.1.0 in /usr/local/lib/python3.7/dist-packages (from qiskit-ignis==0.6.0->qiskit) (57.0.0)\n",
            "Collecting quandl\n",
            "  Downloading https://files.pythonhosted.org/packages/8b/2b/feefb36015beaecc5c0f9f2533e815b409621d9fa7b50b2aac621796f828/Quandl-3.6.1-py2.py3-none-any.whl\n",
            "Requirement already satisfied: scikit-learn>=0.20.0 in /usr/local/lib/python3.7/dist-packages (from qiskit-aqua==0.9.2->qiskit) (0.22.2.post1)\n",
            "Requirement already satisfied: pandas in /usr/local/lib/python3.7/dist-packages (from qiskit-aqua==0.9.2->qiskit) (1.1.5)\n",
            "Requirement already satisfied: fastdtw<=0.3.4 in /usr/local/lib/python3.7/dist-packages (from qiskit-aqua==0.9.2->qiskit) (0.3.4)\n",
            "Collecting dlx<=1.0.4\n",
            "  Downloading https://files.pythonhosted.org/packages/54/c0/b8fb5bb727e983b6f5251433ef941b48f38c65bb0bd6ec509e9185bcd406/dlx-1.0.4.tar.gz\n",
            "Collecting yfinance\n",
            "  Downloading https://files.pythonhosted.org/packages/a7/ee/315752b9ef281ba83c62aa7ec2e2074f85223da6e7e74efb4d3e11c0f510/yfinance-0.1.59.tar.gz\n",
            "Collecting docplex<=2.20.204; sys_platform != \"darwin\"\n",
            "\u001b[?25l  Downloading https://files.pythonhosted.org/packages/87/99/6f7c219b39fd58c84688ad0713eb932bfcf6be81fc74519e43ea9c915b56/docplex-2.20.204.tar.gz (611kB)\n",
            "\u001b[K     |████████████████████████████████| 614kB 36.0MB/s \n",
            "\u001b[?25hRequirement already satisfied: h5py in /usr/local/lib/python3.7/dist-packages (from qiskit-aqua==0.9.2->qiskit) (3.1.0)\n",
            "Requirement already satisfied: six>=1.5 in /usr/local/lib/python3.7/dist-packages (from python-dateutil>=2.8.0->qiskit-terra==0.17.4->qiskit) (1.15.0)\n",
            "Requirement already satisfied: mpmath>=0.19 in /usr/local/lib/python3.7/dist-packages (from sympy>=1.3->qiskit-terra==0.17.4->qiskit) (1.2.1)\n",
            "Collecting ntlm-auth>=1.0.2\n",
            "  Downloading https://files.pythonhosted.org/packages/ff/84/97c550164b54942b0e908c31ef09d9469f3ba4cd7332a671e2125732f63b/ntlm_auth-1.5.0-py2.py3-none-any.whl\n",
            "Collecting cryptography>=1.3\n",
            "\u001b[?25l  Downloading https://files.pythonhosted.org/packages/b2/26/7af637e6a7e87258b963f1731c5982fb31cd507f0d90d91836e446955d02/cryptography-3.4.7-cp36-abi3-manylinux2014_x86_64.whl (3.2MB)\n",
            "\u001b[K     |████████████████████████████████| 3.2MB 35.5MB/s \n",
            "\u001b[?25hRequirement already satisfied: idna<3,>=2.5 in /usr/local/lib/python3.7/dist-packages (from requests>=2.19->qiskit-ibmq-provider==0.14.0->qiskit) (2.10)\n",
            "Requirement already satisfied: chardet<4,>=3.0.2 in /usr/local/lib/python3.7/dist-packages (from requests>=2.19->qiskit-ibmq-provider==0.14.0->qiskit) (3.0.4)\n",
            "Requirement already satisfied: certifi>=2017.4.17 in /usr/local/lib/python3.7/dist-packages (from requests>=2.19->qiskit-ibmq-provider==0.14.0->qiskit) (2021.5.30)\n",
            "Collecting inflection>=0.3.1\n",
            "  Downloading https://files.pythonhosted.org/packages/59/91/aa6bde563e0085a02a435aa99b49ef75b0a4b062635e606dab23ce18d720/inflection-0.5.1-py2.py3-none-any.whl\n",
            "Requirement already satisfied: more-itertools in /usr/local/lib/python3.7/dist-packages (from quandl->qiskit-aqua==0.9.2->qiskit) (8.8.0)\n",
            "Requirement already satisfied: joblib>=0.11 in /usr/local/lib/python3.7/dist-packages (from scikit-learn>=0.20.0->qiskit-aqua==0.9.2->qiskit) (1.0.1)\n",
            "Requirement already satisfied: pytz>=2017.2 in /usr/local/lib/python3.7/dist-packages (from pandas->qiskit-aqua==0.9.2->qiskit) (2018.9)\n",
            "Requirement already satisfied: multitasking>=0.0.7 in /usr/local/lib/python3.7/dist-packages (from yfinance->qiskit-aqua==0.9.2->qiskit) (0.0.9)\n",
            "Collecting lxml>=4.5.1\n",
            "\u001b[?25l  Downloading https://files.pythonhosted.org/packages/30/c0/d0526314971fc661b083ab135747dc68446a3022686da8c16d25fcf6ef07/lxml-4.6.3-cp37-cp37m-manylinux2014_x86_64.whl (6.3MB)\n",
            "\u001b[K     |████████████████████████████████| 6.3MB 29.8MB/s \n",
            "\u001b[?25hRequirement already satisfied: cached-property; python_version < \"3.8\" in /usr/local/lib/python3.7/dist-packages (from h5py->qiskit-aqua==0.9.2->qiskit) (1.5.2)\n",
            "Requirement already satisfied: cffi>=1.12 in /usr/local/lib/python3.7/dist-packages (from cryptography>=1.3->requests-ntlm>=1.1.0->qiskit-ibmq-provider==0.14.0->qiskit) (1.14.5)\n",
            "Requirement already satisfied: pycparser in /usr/local/lib/python3.7/dist-packages (from cffi>=1.12->cryptography>=1.3->requests-ntlm>=1.1.0->qiskit-ibmq-provider==0.14.0->qiskit) (2.20)\n",
            "Building wheels for collected packages: qiskit, python-constraint, dlx, yfinance, docplex\n",
            "  Building wheel for qiskit (setup.py) ... \u001b[?25l\u001b[?25hdone\n",
            "  Created wheel for qiskit: filename=qiskit-0.27.0-cp37-none-any.whl size=10505 sha256=0e05e8d8e3e1f3c36cf3688c08925e33c57296b57898ee239386b0b5b2fbe19e\n",
            "  Stored in directory: /root/.cache/pip/wheels/c6/54/d9/f0f711dc20aff31947456951374132d0e23ec527da8c15295d\n",
            "  Building wheel for python-constraint (setup.py) ... \u001b[?25l\u001b[?25hdone\n",
            "  Created wheel for python-constraint: filename=python_constraint-1.4.0-py2.py3-none-any.whl size=24079 sha256=89e39e468cb16ba2e12a011522c8fc51e9cacbcab61966084884fd2e272360bd\n",
            "  Stored in directory: /root/.cache/pip/wheels/34/31/15/7b070b25d0a549d20ce2e9fe6d727471c2c61ef904720fd40c\n",
            "  Building wheel for dlx (setup.py) ... \u001b[?25l\u001b[?25hdone\n",
            "  Created wheel for dlx: filename=dlx-1.0.4-cp37-none-any.whl size=5720 sha256=ba0b1d5112f67f61ec4d3aff8b35b5a86dc3932f936b484d49583fa6eac6918c\n",
            "  Stored in directory: /root/.cache/pip/wheels/bb/ba/15/fdd0deb104df3254912998150ba9245668db06b00af5912d1a\n",
            "  Building wheel for yfinance (setup.py) ... \u001b[?25l\u001b[?25hdone\n",
            "  Created wheel for yfinance: filename=yfinance-0.1.59-py2.py3-none-any.whl size=23455 sha256=cf292bda65fddc63052068bbcebd773a78036d833eb01427c69b56f797a13af2\n",
            "  Stored in directory: /root/.cache/pip/wheels/f8/2a/0f/4b5a86e1d52e451757eb6bc17fd899629f0925c777741b6d04\n",
            "  Building wheel for docplex (setup.py) ... \u001b[?25l\u001b[?25hdone\n",
            "  Created wheel for docplex: filename=docplex-2.20.204-cp37-none-any.whl size=675396 sha256=0883e4a6b28d32bb3da95a56e91e845f49ab3c19063f75fe5b50d7f0f5ddf0e0\n",
            "  Stored in directory: /root/.cache/pip/wheels/ae/2c/e2/a099ebb6fda8adeba9c5fc2e25659d195ad2f5c6cc5fb75fd4\n",
            "Successfully built qiskit python-constraint dlx yfinance docplex\n",
            "Installing collected packages: fastjsonschema, python-constraint, retworkx, ply, qiskit-terra, pybind11, qiskit-aer, ntlm-auth, cryptography, requests-ntlm, websocket-client, qiskit-ibmq-provider, qiskit-ignis, inflection, quandl, dlx, lxml, yfinance, docplex, qiskit-aqua, qiskit\n",
            "  Found existing installation: lxml 4.2.6\n",
            "    Uninstalling lxml-4.2.6:\n",
            "      Successfully uninstalled lxml-4.2.6\n",
            "Successfully installed cryptography-3.4.7 dlx-1.0.4 docplex-2.20.204 fastjsonschema-2.15.1 inflection-0.5.1 lxml-4.6.3 ntlm-auth-1.5.0 ply-3.11 pybind11-2.6.2 python-constraint-1.4.0 qiskit-0.27.0 qiskit-aer-0.8.2 qiskit-aqua-0.9.2 qiskit-ibmq-provider-0.14.0 qiskit-ignis-0.6.0 qiskit-terra-0.17.4 quandl-3.6.1 requests-ntlm-1.1.0 retworkx-0.9.0 websocket-client-1.1.0 yfinance-0.1.59\n"
          ],
          "name": "stdout"
        }
      ]
    },
    {
      "cell_type": "code",
      "metadata": {
        "colab": {
          "base_uri": "https://localhost:8080/"
        },
        "id": "mbiY8pfsPw_J",
        "outputId": "a41accd3-6f10-4b0c-9c48-93c3732c71c3"
      },
      "source": [
        "from qiskit import Aer\n",
        "from qiskit.aqua import QuantumInstance\n",
        "from qiskit.finance.applications.ising import portfolio\n",
        "from qiskit.aqua.algorithms import QAOA, NumPyMinimumEigensolver\n",
        "from qiskit.finance import QiskitFinanceError\n",
        "from qiskit.finance.data_providers import WikipediaDataProvider\n",
        "from qiskit.aqua.components.optimizers import COBYLA\n",
        "import numpy as np\n",
        "import matplotlib.pyplot as plt\n",
        "import datetime\n",
        "\n",
        "import warnings\n",
        "warnings.filterwarnings(\"ignore\", category=DeprecationWarning)\n",
        "\n",
        "#%matplotlib notebook"
      ],
      "execution_count": 2,
      "outputs": [
        {
          "output_type": "stream",
          "text": [
            "/usr/local/lib/python3.7/dist-packages/qiskit/finance/__init__.py:50: DeprecationWarning: The package qiskit.finance is deprecated. It was moved/refactored to qiskit_finance (pip install qiskit-finance). For more information see <https://github.com/Qiskit/qiskit-aqua/blob/main/README.md#migration-guide>\n",
            "  warn_package('finance', 'qiskit_finance', 'qiskit-finance')\n"
          ],
          "name": "stderr"
        }
      ]
    },
    {
      "cell_type": "markdown",
      "metadata": {
        "id": "Re7z2rHoPw_i"
      },
      "source": [
        "## Pull Stock data"
      ]
    },
    {
      "cell_type": "code",
      "metadata": {
        "id": "lf_GjlbgPw_k"
      },
      "source": [
        "# set number of assets (= number of qubits)\n",
        "#stocks = [\"GOOG\", \"AAPL\", \"F\", \"NFLX\", \"AMZN\", \"INTC\", \"ADBE\", \"KHC\", \"IBM\", \"NVDA\"]\n",
        "#stocks = [\"GOOG\", \"AAPL\", \"F\", \"NFLX\", \"AMZN\", \"INTC\", \"ADBE\", \"IBM\"]\n",
        "#stocks = [\"GOOG\", \"AAPL\", \"MSFT\", \"F\", \"IBM\"]\n",
        "stocks = [\"AMZN\", \"GOOG\", \"TSLA\", \"MSFT\", \"IBM\"]\n",
        "#stocks = [\"AMZN\", \"GOOG\", \"NVDA\", \"MSFT\"]\n",
        "#stocks = [\"CVX\", \"V\", \"PG\", \"JPM\", \"IBM\"]\n",
        "num_assets = len(stocks)\n",
        "\n",
        "# This is my personal api key from Quandl!\n",
        "token = \"HRXZqqxBka_9huabBgoW\"\n",
        "# token = None\n",
        "\n",
        "try:\n",
        "    wiki = WikipediaDataProvider(\n",
        "                        token = token,\n",
        "                        tickers = stocks,\n",
        "                        start = datetime.datetime(2018,1,1),\n",
        "                        end = datetime.datetime(2018,12,1))\n",
        "    wiki.run()\n",
        "except QiskitFinanceError as ex:\n",
        "    print(ex)\n",
        "    print(\"Error retrieving data.\")"
      ],
      "execution_count": 3,
      "outputs": []
    },
    {
      "cell_type": "markdown",
      "metadata": {
        "id": "mGjMdzeiPw_m"
      },
      "source": [
        "## Draw stock data\n",
        "We also drew a normalised version of it as well"
      ]
    },
    {
      "cell_type": "code",
      "metadata": {
        "colab": {
          "base_uri": "https://localhost:8080/",
          "height": 621
        },
        "id": "noegwNs1Pw_n",
        "outputId": "27f96981-6b69-45de-8f1d-5f27afcc4858"
      },
      "source": [
        "fig, axes = plt.subplots()\n",
        "for (cnt, s) in enumerate(stocks):\n",
        "    axes.plot(wiki._data[cnt], label=s)\n",
        "plt.title(\"The yearly evolution of stock prices:\")\n",
        "plt.legend(loc=\"right\")\n",
        "plt.xticks(rotation=45)\n",
        "plt.show()\n",
        "\n",
        "fig, axes = plt.subplots()\n",
        "for (cnt, s) in enumerate(stocks):\n",
        "    min_ = np.min(wiki._data[cnt])\n",
        "    max_ = np.max(wiki._data[cnt])\n",
        "    norm = (wiki._data[cnt] - min_)/(max_- min_)\n",
        "    axes.plot(norm, label=s)\n",
        "plt.legend(loc=\"right\")\n",
        "plt.title(\"The normalised yearly evolution of stock prices:\")\n",
        "plt.xticks(rotation=45)\n",
        "plt.show()\n"
      ],
      "execution_count": 4,
      "outputs": [
        {
          "output_type": "display_data",
          "data": {
            "image/png": "[encoded data removed]",
            "text/plain": [
              "<Figure size 432x288 with 1 Axes>"
            ]
          },
          "metadata": {
            "tags": [],
            "needs_background": "light"
          }
        },
        {
          "output_type": "display_data",
          "data": {
            "image/png": "[encoded data removed]",
            "text/plain": [
              "<Figure size 432x288 with 1 Axes>"
            ]
          },
          "metadata": {
            "tags": [],
            "needs_background": "light"
          }
        }
      ]
    },
    {
      "cell_type": "code",
      "metadata": {
        "id": "2wCuSjJIPw_q"
      },
      "source": [
        "mu = wiki.get_period_return_mean_vector()\n",
        "sigma = wiki.get_period_return_covariance_matrix()"
      ],
      "execution_count": 5,
      "outputs": []
    },
    {
      "cell_type": "code",
      "metadata": {
        "colab": {
          "base_uri": "https://localhost:8080/",
          "height": 265
        },
        "id": "wPT5Gm_uNXhi",
        "outputId": "2cba92a9-3687-4a64-a49f-25a6b9cf4a52"
      },
      "source": [
        "plt.imshow(sigma, interpolation='nearest')\n",
        "plt.show()"
      ],
      "execution_count": 6,
      "outputs": [
        {
          "output_type": "display_data",
          "data": {
            "image/png": "[encoded data removed]",
            "text/plain": [
              "<Figure size 432x288 with 1 Axes>"
            ]
          },
          "metadata": {
            "tags": [],
            "needs_background": "light"
          }
        }
      ]
    },
    {
      "cell_type": "code",
      "metadata": {
        "colab": {
          "base_uri": "https://localhost:8080/"
        },
        "id": "jPoCcjXS6brY",
        "outputId": "d86c668a-ecf7-4ff5-ac90-1912c02f8c47"
      },
      "source": [
        "!pip install qiskit_nature"
      ],
      "execution_count": 7,
      "outputs": [
        {
          "output_type": "stream",
          "text": [
            "Collecting qiskit_nature\n",
            "\u001b[?25l  Downloading https://files.pythonhosted.org/packages/4c/54/2562684ccf73215d3d85b65174ea06ee3f1b184422cfd81241a8a13491cd/qiskit_nature-0.1.3-py3-none-any.whl (1.5MB)\n",
            "\u001b[K     |████████████████████████████████| 1.5MB 4.2MB/s \n",
            "\u001b[?25hRequirement already satisfied: scipy>=1.4 in /usr/local/lib/python3.7/dist-packages (from qiskit_nature) (1.4.1)\n",
            "Requirement already satisfied: scikit-learn>=0.20.0 in /usr/local/lib/python3.7/dist-packages (from qiskit_nature) (0.22.2.post1)\n",
            "Requirement already satisfied: psutil>=5 in /usr/local/lib/python3.7/dist-packages (from qiskit_nature) (5.4.8)\n",
            "Requirement already satisfied: numpy>=1.17 in /usr/local/lib/python3.7/dist-packages (from qiskit_nature) (1.19.5)\n",
            "Requirement already satisfied: h5py in /usr/local/lib/python3.7/dist-packages (from qiskit_nature) (3.1.0)\n",
            "Requirement already satisfied: setuptools>=40.1.0 in /usr/local/lib/python3.7/dist-packages (from qiskit_nature) (57.0.0)\n",
            "Requirement already satisfied: qiskit-terra>=0.17.0 in /usr/local/lib/python3.7/dist-packages (from qiskit_nature) (0.17.4)\n",
            "Requirement already satisfied: joblib>=0.11 in /usr/local/lib/python3.7/dist-packages (from scikit-learn>=0.20.0->qiskit_nature) (1.0.1)\n",
            "Requirement already satisfied: cached-property; python_version < \"3.8\" in /usr/local/lib/python3.7/dist-packages (from h5py->qiskit_nature) (1.5.2)\n",
            "Requirement already satisfied: python-dateutil>=2.8.0 in /usr/local/lib/python3.7/dist-packages (from qiskit-terra>=0.17.0->qiskit_nature) (2.8.1)\n",
            "Requirement already satisfied: jsonschema>=2.6 in /usr/local/lib/python3.7/dist-packages (from qiskit-terra>=0.17.0->qiskit_nature) (2.6.0)\n",
            "Requirement already satisfied: python-constraint>=1.4 in /usr/local/lib/python3.7/dist-packages (from qiskit-terra>=0.17.0->qiskit_nature) (1.4.0)\n",
            "Requirement already satisfied: sympy>=1.3 in /usr/local/lib/python3.7/dist-packages (from qiskit-terra>=0.17.0->qiskit_nature) (1.7.1)\n",
            "Requirement already satisfied: fastjsonschema>=2.10 in /usr/local/lib/python3.7/dist-packages (from qiskit-terra>=0.17.0->qiskit_nature) (2.15.1)\n",
            "Requirement already satisfied: retworkx>=0.8.0 in /usr/local/lib/python3.7/dist-packages (from qiskit-terra>=0.17.0->qiskit_nature) (0.9.0)\n",
            "Requirement already satisfied: ply>=3.10 in /usr/local/lib/python3.7/dist-packages (from qiskit-terra>=0.17.0->qiskit_nature) (3.11)\n",
            "Requirement already satisfied: dill>=0.3 in /usr/local/lib/python3.7/dist-packages (from qiskit-terra>=0.17.0->qiskit_nature) (0.3.4)\n",
            "Requirement already satisfied: six>=1.5 in /usr/local/lib/python3.7/dist-packages (from python-dateutil>=2.8.0->qiskit-terra>=0.17.0->qiskit_nature) (1.15.0)\n",
            "Requirement already satisfied: mpmath>=0.19 in /usr/local/lib/python3.7/dist-packages (from sympy>=1.3->qiskit-terra>=0.17.0->qiskit_nature) (1.2.1)\n",
            "Installing collected packages: qiskit-nature\n",
            "Successfully installed qiskit-nature-0.1.3\n"
          ],
          "name": "stdout"
        }
      ]
    },
    {
      "cell_type": "code",
      "metadata": {
        "id": "XQMJgaTS6PLm"
      },
      "source": [
        "from qiskit_nature.drivers import PySCFDriver"
      ],
      "execution_count": 8,
      "outputs": []
    },
    {
      "cell_type": "code",
      "metadata": {
        "id": "bPwK3Qe55LKw"
      },
      "source": [
        "from qiskit_nature.mappers.second_quantization import ParityMapper, BravyiKitaevMapper, JordanWignerMapper\n",
        "from qiskit_nature.converters.second_quantization.qubit_converter import QubitConverter\n",
        "\n",
        "# Setup the mapper and qubit converter\n",
        "mapper_type = 'ParityMapper'\n",
        "\n",
        "if mapper_type == 'ParityMapper':\n",
        "    mapper = ParityMapper()\n",
        "elif mapper_type == 'JordanWignerMapper':\n",
        "    mapper = JordanWignerMapper()\n",
        "elif mapper_type == 'BravyiKitaevMapper':\n",
        "    mapper = BravyiKitaevMapper()\n",
        "#z2symmetry_reduction = \"auto\"\n",
        "converter = QubitConverter(mapper=mapper, two_qubit_reduction=True)\n",
        "#converter = QubitConverter(mapper=mapper)\n",
        "#converter = QubitConverter(mapper=mapper, two_qubit_reduction=False)\n",
        "# The fermionic operators are mapped to qubit operators\n",
        "#num_particles = (problem.molecule_data_transformed.num_alpha,\n",
        "             #problem.molecule_data_transformed.num_beta)\n",
        "#qubit_op = converter.convert(main_op, num_particles=num_particles)"
      ],
      "execution_count": 9,
      "outputs": []
    },
    {
      "cell_type": "markdown",
      "metadata": {
        "id": "kd3djd2CPw_r"
      },
      "source": [
        "## Set our Optimization Parameters"
      ]
    },
    {
      "cell_type": "code",
      "metadata": {
        "id": "CsoK9vb9Pw_s"
      },
      "source": [
        "\n",
        "# set risk factor\n",
        "q = 0.5\n",
        "# set budget\n",
        "budget = 2\n",
        "# set parameter to scale the budget penalty term\n",
        "penalty = num_assets\n",
        "\n",
        "\n",
        "\n",
        "\n",
        "# Create a Qubit operator\n",
        "qubitOp, converter  = portfolio.get_operator(mu, sigma, q, budget, penalty)\n",
        "\n",
        "from qiskit.algorithms.optimizers import COBYLA, L_BFGS_B, SPSA, SLSQP\n",
        "\n",
        "optimizer_type = 'COBYLA'\n",
        "\n",
        "# You may want to tune the parameters \n",
        "\n",
        "\n",
        "if optimizer_type == 'COBYLA':\n",
        "    cobyla = COBYLA()\n",
        "    cobyla.set_options(maxiter=577)\n",
        "elif optimizer_type == 'L_BFGS_B':\n",
        "    l_bfgs_b = L_BFGS_B()\n",
        "    cobyla.set_options(maxfun=500)\n",
        "elif optimizer_type == 'SPSA':\n",
        "    spsa = SPSA()\n",
        "    spsa.set_options(maxiter=500)\n",
        "elif optimizer_type == 'SLSQP':\n",
        "    slsqp = SLSQP()\n",
        "    slsqp.set_options(maxiter=500)    \n",
        "\n",
        "\n",
        "\n",
        "# Prep for solvers\n",
        "seed = 50\n",
        "\n",
        "\n",
        "\n",
        "# Set up the quantum instance backend\n",
        "backend = Aer.get_backend('statevector_simulator')\n",
        "quantum_instance = QuantumInstance(backend=backend, seed_simulator=seed, seed_transpiler=seed)"
      ],
      "execution_count": 10,
      "outputs": []
    },
    {
      "cell_type": "markdown",
      "metadata": {
        "id": "pJBqc6iiPw_t"
      },
      "source": [
        "## Classical Solver"
      ]
    },
    {
      "cell_type": "code",
      "metadata": {
        "id": "L3kQ6waiPw_u"
      },
      "source": [
        "# NumPyMinimumEigensolver (Classical Solver)\n",
        "exact_eigensolver = NumPyMinimumEigensolver(qubitOp)\n",
        "np_result = exact_eigensolver.run()"
      ],
      "execution_count": 11,
      "outputs": []
    },
    {
      "cell_type": "code",
      "metadata": {
        "colab": {
          "base_uri": "https://localhost:8080/"
        },
        "id": "odQUBpNF9CIr",
        "outputId": "06bb1db2-cc1e-4bcc-8015-8578e83cb484"
      },
      "source": [
        "#hero\n",
        "from qiskit.circuit.library import TwoLocal\n",
        "from qiskit_nature.circuit.library import UCCSD, PUCCD, SUCCD\n",
        "\n",
        "from qiskit.circuit.library import TwoLocal\n",
        "from qiskit.aqua.algorithms import VQE, QAOA, NumPyMinimumEigensolver\n",
        "vqe_counts = []\n",
        "vqe_values = []\n",
        "# Choose the ansatz\n",
        "ansatz_type = \"TwoLocal\"\n",
        "\n",
        "# Parameters for q-UCC antatze\n",
        "#num_particles = (problem.molecule_data_transformed.num_alpha,\n",
        "             #problem.molecule_data_transformed.num_beta)\n",
        "#num_spin_orbitals = 2 * problem.molecule_data_transformed.num_molecular_orbitals\n",
        "\n",
        "# Put arguments for twolocal\n",
        "if ansatz_type == \"TwoLocal\":\n",
        "    # Single qubit rotations that are placed on all qubits with independent parameters\n",
        "    rotation_blocks = ['rxx', 'rzz']\n",
        "    # Entangling gates\n",
        "    entanglement_blocks = 'cx'\n",
        "    # How the qubits are entangled \n",
        "    entanglement = 'full'\n",
        "    # Repetitions of rotation_blocks + entanglement_blocks with independent parameters\n",
        "    repetitions = 3\n",
        "    # Skip the final rotation_blocks layer\n",
        "    skip_final_rotation_layer = True\n",
        "    ansatz = TwoLocal(qubitOp.num_qubits, rotation_blocks, entanglement_blocks, reps=repetitions, \n",
        "                      entanglement=entanglement, skip_final_rotation_layer=skip_final_rotation_layer)\n",
        "    # Add the initial state\n",
        "    #ansatz.compose(front=True, inplace=True)\n",
        "elif ansatz_type == \"UCCSD\":\n",
        "    ansatz = UCCSD(converter)\n",
        "elif ansatz_type == \"PUCCD\":\n",
        "    ansatz = PUCCD(converter)\n",
        "elif ansatz_type == \"SUCCD\":\n",
        "    ansatz = SUCCD(converter)\n",
        "elif ansatz_type == \"Custom\":\n",
        "    # Example of how to write your own circuit\n",
        "    from qiskit.circuit import Parameter, QuantumCircuit, QuantumRegister\n",
        "    # Define the variational parameter\n",
        "    theta = Parameter('a')\n",
        "    n = qubitOp.num_qubits\n",
        "    # Make an empty quantum circuit\n",
        "    qc = QuantumCircuit(qubitOp.num_qubits)\n",
        "    qubit_label = 0\n",
        "    # Place a Hadamard gate\n",
        "    qc.h(qubit_label)\n",
        "    # Place a CNOT ladder\n",
        "    for i in range(n-1):\n",
        "        qc.cx(i, i+1)\n",
        "    # Visual separator\n",
        "    qc.barrier()\n",
        "    # rz rotations on all qubits\n",
        "    qc.rz(theta, range(n))\n",
        "    ansatz = qc\n",
        "    ansatz.compose(front=True, inplace=True)\n",
        "\n",
        "vqe = VQE(qubitOp, ansatz, cobyla)\n",
        "\n",
        "\n",
        "\n",
        "vqe.random_seed = seed\n",
        "\n",
        "quantum_instance = QuantumInstance(backend=backend, seed_simulator=seed, seed_transpiler=seed)\n",
        "\n",
        "vqe_result = vqe.run(quantum_instance)\n",
        "print(ansatz)"
      ],
      "execution_count": 16,
      "outputs": [
        {
          "output_type": "stream",
          "text": [
            "     ┌────────────┐                                                         »\n",
            "q_0: ┤0           ├──■────────────────■────■────■────■──────────────■───────»\n",
            "     │  RXX(θ[0]) │┌─┴─┐┌──────────┐┌─┴─┐┌─┴─┐  │    │              │       »\n",
            "q_1: ┤1           ├┤ X ├┤ RZ(θ[2]) ├┤ X ├┤ X ├──┼────┼────■────■────┼───────»\n",
            "     ├────────────┤└───┘└──────────┘└───┘└───┘┌─┴─┐  │  ┌─┴─┐  │    │       »\n",
            "q_2: ┤0           ├──■────────────────■───────┤ X ├──┼──┤ X ├──┼────┼────■──»\n",
            "     │  RXX(θ[1]) │┌─┴─┐┌──────────┐┌─┴─┐     └───┘┌─┴─┐└───┘┌─┴─┐  │  ┌─┴─┐»\n",
            "q_3: ┤1           ├┤ X ├┤ RZ(θ[3]) ├┤ X ├──────────┤ X ├─────┤ X ├──┼──┤ X ├»\n",
            "     └────────────┘└───┘└──────────┘└───┘          └───┘     └───┘┌─┴─┐└───┘»\n",
            "q_4: ─────────────────────────────────────────────────────────────┤ X ├─────»\n",
            "                                                                  └───┘     »\n",
            "«          ┌────────────┐                                                   »\n",
            "«q_0: ─────┤0           ├──■──────────────────■───────■─────────────■────■──»\n",
            "«          │  RXX(θ[4]) │┌─┴─┐ ┌──────────┐ ┌─┴─┐   ┌─┴─┐           │    │  »\n",
            "«q_1: ──■──┤1           ├┤ X ├─┤ RZ(θ[6]) ├─┤ X ├───┤ X ├───────────┼────┼──»\n",
            "«       │  └────────────┘└───┘┌┴──────────┴┐└───┘   └───┘         ┌─┴─┐  │  »\n",
            "«q_2: ──┼────────■────────────┤0           ├──■────────────────■──┤ X ├──┼──»\n",
            "«       │        │            │  RXX(θ[5]) │┌─┴─┐┌──────────┐┌─┴─┐└───┘┌─┴─┐»\n",
            "«q_3: ──┼────────┼─────────■──┤1           ├┤ X ├┤ RZ(θ[7]) ├┤ X ├─────┤ X ├»\n",
            "«     ┌─┴─┐    ┌─┴─┐     ┌─┴─┐└────────────┘└───┘└──────────┘└───┘     └───┘»\n",
            "«q_4: ┤ X ├────┤ X ├─────┤ X ├──────────────────────────────────────────────»\n",
            "«     └───┘    └───┘     └───┘                                              »\n",
            "«                         ┌────────────┐                                     »\n",
            "«q_0: ───────■────────────┤0           ├──■─────────────────────■─────────■──»\n",
            "«            │            │  RXX(θ[8]) │┌─┴─┐┌───────────┐    ┌─┴─┐     ┌─┴─┐»\n",
            "«q_1: ──■────┼────■────■──┤1           ├┤ X ├┤ RZ(θ[10]) ├────┤ X ├─────┤ X ├»\n",
            "«     ┌─┴─┐  │    │    │  └────────────┘└───┘└───────────┘┌───┴───┴────┐└───┘»\n",
            "«q_2: ┤ X ├──┼────┼────┼────────■─────────■───────────────┤0           ├──■──»\n",
            "«     └───┘  │  ┌─┴─┐  │      ┌─┴─┐       │               │  RXX(θ[9]) │┌─┴─┐»\n",
            "«q_3: ───────┼──┤ X ├──┼──────┤ X ├───────┼────────■──────┤1           ├┤ X ├»\n",
            "«          ┌─┴─┐└───┘┌─┴─┐    └───┘     ┌─┴─┐    ┌─┴─┐    └────────────┘└───┘»\n",
            "«q_4: ─────┤ X ├─────┤ X ├──────────────┤ X ├────┤ X ├───────────────────────»\n",
            "«          └───┘     └───┘              └───┘    └───┘                       »\n",
            "«                                                                    \n",
            "«q_0: ────────────────────■────■─────────■───────────────────────────\n",
            "«                         │    │         │                           \n",
            "«q_1: ────────────────────┼────┼────■────┼────■────■─────────────────\n",
            "«                       ┌─┴─┐  │  ┌─┴─┐  │    │    │                 \n",
            "«q_2: ───────────────■──┤ X ├──┼──┤ X ├──┼────┼────┼────■────■───────\n",
            "«     ┌───────────┐┌─┴─┐└───┘┌─┴─┐└───┘  │  ┌─┴─┐  │  ┌─┴─┐  │       \n",
            "«q_3: ┤ RZ(θ[11]) ├┤ X ├─────┤ X ├───────┼──┤ X ├──┼──┤ X ├──┼────■──\n",
            "«     └───────────┘└───┘     └───┘     ┌─┴─┐└───┘┌─┴─┐└───┘┌─┴─┐┌─┴─┐\n",
            "«q_4: ─────────────────────────────────┤ X ├─────┤ X ├─────┤ X ├┤ X ├\n",
            "«                                      └───┘     └───┘     └───┘└───┘\n"
          ],
          "name": "stdout"
        }
      ]
    },
    {
      "cell_type": "markdown",
      "metadata": {
        "id": "Fn7MSnNlPw_x"
      },
      "source": [
        "## Top computed results for each solver"
      ]
    },
    {
      "cell_type": "code",
      "metadata": {
        "colab": {
          "base_uri": "https://localhost:8080/"
        },
        "id": "WIY2bZZRPw_x",
        "outputId": "32665f85-c3ad-4913-a55d-32cc49b15c7e"
      },
      "source": [
        "def find_best(result, name):\n",
        "    eigenvector = result.eigenstate\n",
        "    p_all = True\n",
        "    if not isinstance(result.eigenstate, np.ndarray):\n",
        "        p_all = False\n",
        "        eigenvector = result.eigenstate.to_matrix()\n",
        "        \n",
        "    \n",
        "    probabilities = np.abs(eigenvector)**2\n",
        "    i_sorted = np.argsort(probabilities)[::-1]\n",
        "    pl = []\n",
        "    for i in i_sorted[:10]:\n",
        "        x = \"{0:b}\".format(i).zfill(num_assets)\n",
        "        arr = np.array([int(a) for a in list(x)])[::-1]\n",
        "        value = portfolio.portfolio_value(arr, mu, sigma, q, budget, penalty)\n",
        "        optim = [str(stock[0])+' ' for stock in np.take(stocks, np.argwhere(arr))]\n",
        "        opt = \"\".join(optim).ljust(25)\n",
        "        probability = probabilities[i]\n",
        "        pl.append((opt, f'{arr} \\t {opt} {round(value,4)} \\t {round(probability,4)}'))\n",
        "\n",
        "    print(name+' Optimal Stock Combination: '+''.join(pl[0][0]))\n",
        "    print('\\n------------------------------ Top Results ---------------------------------')\n",
        "    print('qubits \\t\\t stock combination \\t value \\t\\t probability')\n",
        "    print('-------------------------------------------------------------------------------')\n",
        "    [print(p[1]) for p in pl] if p_all else print(pl[0][1])\n",
        "    print('-----------------------------------------------------------------------------\\n')\n",
        "        \n",
        "\n",
        "find_best(vqe_result, \"VQE\")\n",
        "find_best(np_result,  \"Classical\")"
      ],
      "execution_count": 20,
      "outputs": [
        {
          "output_type": "stream",
          "text": [
            "VQE Optimal Stock Combination: AMZN MSFT                \n",
            "\n",
            "------------------------------ Top Results ---------------------------------\n",
            "qubits \t\t stock combination \t value \t\t probability\n",
            "-------------------------------------------------------------------------------\n",
            "[1 0 0 1 0] \t AMZN MSFT                 -0.0044 \t 0.666\n",
            "[0 0 0 1 1] \t MSFT IBM                  -0.0002 \t 0.1914\n",
            "[0 0 1 1 0] \t TSLA MSFT                 0.002 \t 0.1426\n",
            "[1 0 1 1 1] \t AMZN TSLA MSFT IBM        19.9993 \t 0.0\n",
            "[1 0 1 1 0] \t AMZN TSLA MSFT            4.9985 \t 0.0\n",
            "[0 0 0 1 0] \t MSFT                      4.9993 \t 0.0\n",
            "[1 0 0 1 1] \t AMZN MSFT IBM             4.9962 \t 0.0\n",
            "[0 0 1 1 1] \t TSLA MSFT IBM             5.0026 \t 0.0\n",
            "[0 1 1 0 0] \t GOOG TSLA                 0.0036 \t 0.0\n",
            "[1 0 1 0 1] \t AMZN TSLA IBM             4.9993 \t 0.0\n",
            "-----------------------------------------------------------------------------\n",
            "\n",
            "Classical Optimal Stock Combination: AMZN MSFT                \n",
            "\n",
            "------------------------------ Top Results ---------------------------------\n",
            "qubits \t\t stock combination \t value \t\t probability\n",
            "-------------------------------------------------------------------------------\n",
            "[1 0 0 1 0] \t AMZN MSFT                 -0.0044 \t 1.0\n",
            "-----------------------------------------------------------------------------\n",
            "\n"
          ],
          "name": "stdout"
        }
      ]
    }
  ]
}